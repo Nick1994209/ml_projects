{
 "cells": [
  {
   "cell_type": "code",
   "execution_count": 42,
   "metadata": {
    "cell_style": "center"
   },
   "outputs": [],
   "source": [
    "%matplotlib inline\n",
    "\n",
    "import math\n",
    "from matplotlib import pyplot as plt\n",
    "import numpy as np"
   ]
  },
  {
   "cell_type": "code",
   "execution_count": 108,
   "metadata": {},
   "outputs": [],
   "source": [
    "def math_func(x):\n",
    "    return math.sin(x/5) * math.exp(x/10) + 5 * math.exp(-1*x/2)\n",
    "\n",
    "def map_to_array(func, sequence):\n",
    "    return np.array(list(map(func, sequence)))"
   ]
  },
  {
   "cell_type": "code",
   "execution_count": 109,
   "metadata": {},
   "outputs": [],
   "source": [
    "x = np.arange(1, 16, 1)\n",
    "y = map_to_array(math_func, x)"
   ]
  },
  {
   "cell_type": "code",
   "execution_count": 57,
   "metadata": {},
   "outputs": [
    {
     "data": {
      "text/plain": [
       "(array([ 1,  2,  3,  4,  5,  6,  7,  8,  9, 10, 11, 12, 13, 14, 15]),\n",
       " array([3.25221687, 2.31503384, 1.87783842, 1.74684595, 1.7977761 ,\n",
       "        1.94722128, 2.13543898, 2.31617016, 2.45082365, 2.50541641,\n",
       "        2.44929128, 2.2550105 , 1.89904466, 1.36300335, 0.63522142]))"
      ]
     },
     "execution_count": 57,
     "metadata": {},
     "output_type": "execute_result"
    }
   ],
   "source": [
    "x, y"
   ]
  },
  {
   "cell_type": "code",
   "execution_count": 49,
   "metadata": {},
   "outputs": [
    {
     "data": {
      "image/png": "[encoded data removed]",
      "text/plain": [
       "<matplotlib.figure.Figure at 0x118432400>"
      ]
     },
     "metadata": {},
     "output_type": "display_data"
    }
   ],
   "source": [
    "plt.plot(x, y)\n",
    "plt.draw()"
   ]
  },
  {
   "cell_type": "code",
   "execution_count": 115,
   "metadata": {},
   "outputs": [],
   "source": [
    "x = np.array([1, 4, 10, 15])\n",
    "y = map_to_array(math_func, x)"
   ]
  },
  {
   "cell_type": "code",
   "execution_count": 50,
   "metadata": {},
   "outputs": [],
   "source": [
    "from functools import partial"
   ]
  },
  {
   "cell_type": "code",
   "execution_count": 111,
   "metadata": {},
   "outputs": [],
   "source": [
    "# создадим матрицу в которой каждый x предствавим многочленом в степени 0, 1, 2, 3\n",
    "# нулевая степень нужна для использования базица\n",
    "def get_list_polynomial(x, to_degree=4):\n",
    "    \"\"\"\n",
    "    Получение списка числа возведенного в степени до to_degree=4\n",
    "    \"\"\"\n",
    "    get_number_pow = partial(pow, x)\n",
    "    return map_to_array(get_number_pow, range(to_degree))\n",
    "    \n",
    "X = map_to_array(get_list_polynomial, x)"
   ]
  },
  {
   "cell_type": "code",
   "execution_count": 112,
   "metadata": {},
   "outputs": [
    {
     "data": {
      "text/plain": [
       "(array([[   1,    1,    1,    1],\n",
       "        [   1,    4,   16,   64],\n",
       "        [   1,   10,  100, 1000]]), (4, 4))"
      ]
     },
     "execution_count": 112,
     "metadata": {},
     "output_type": "execute_result"
    }
   ],
   "source": [
    "X[:3], X.shape"
   ]
  },
  {
   "cell_type": "code",
   "execution_count": 87,
   "metadata": {},
   "outputs": [],
   "source": [
    "y = y.reshape(len(y), 1)"
   ]
  },
  {
   "cell_type": "code",
   "execution_count": 88,
   "metadata": {},
   "outputs": [],
   "source": [
    "w, _, _, _ = np.linalg.lstsq(X, y, rcond=None)"
   ]
  },
  {
   "cell_type": "code",
   "execution_count": 103,
   "metadata": {},
   "outputs": [
    {
     "data": {
      "text/plain": [
       "array([[ 4.36264154],\n",
       "       [-1.29552587],\n",
       "       [ 0.19333685],\n",
       "       [-0.00823565]])"
      ]
     },
     "execution_count": 103,
     "metadata": {},
     "output_type": "execute_result"
    }
   ],
   "source": [
    "w"
   ]
  },
  {
   "cell_type": "code",
   "execution_count": 106,
   "metadata": {},
   "outputs": [
    {
     "name": "stdout",
     "output_type": "stream",
     "text": [
      "[[3.25221687 1.74684595 2.50541641 0.63522142]] \n",
      " [[3.25221687 1.74684595 2.50541641 0.63522142]]\n"
     ]
    }
   ],
   "source": [
    "print(np.dot(X, w).T, '\\n', y.T)"
   ]
  },
  {
   "cell_type": "code",
   "execution_count": 101,
   "metadata": {},
   "outputs": [
    {
     "data": {
      "text/plain": [
       "'4.36 -1.3 0.19 -0.01'"
      ]
     },
     "execution_count": 101,
     "metadata": {},
     "output_type": "execute_result"
    }
   ],
   "source": [
    "answer = ' '.join(map(lambda _w: str(round(_w, 2)), w.T[0]))\n",
    "answer"
   ]
  },
  {
   "cell_type": "code",
   "execution_count": 117,
   "metadata": {},
   "outputs": [],
   "source": [
    "with open('submission-2.txt', 'w', encoding='utf-8') as f:\n",
    "    f.write(answer)"
   ]
  },
  {
   "cell_type": "markdown",
   "metadata": {},
   "source": [
    "### Еще один способ сделать y"
   ]
  },
  {
   "cell_type": "code",
   "execution_count": 114,
   "metadata": {},
   "outputs": [
    {
     "data": {
      "text/plain": [
       "[1, 4, 10, 15]"
      ]
     },
     "execution_count": 114,
     "metadata": {},
     "output_type": "execute_result"
    }
   ],
   "source": [
    "x = x"
   ]
  },
  {
   "cell_type": "code",
   "execution_count": 116,
   "metadata": {},
   "outputs": [
    {
     "name": "stdout",
     "output_type": "stream",
     "text": [
      "[3.25221687 1.74684595 2.50541641 0.63522142] \n",
      " [3.25221687 1.74684595 2.50541641 0.63522142]\n"
     ]
    }
   ],
   "source": [
    "# math.sin(x/5) * math.exp(x/10) + 5 * math.exp(-1*x/2)\n",
    "_y = np.sin(x / 5) * np.exp(x / 10) + 5 * np.exp(-1 * x / 2)\n",
    "print(_y, '\\n', y.T)"
   ]
  }
 ],
 "metadata": {
  "kernelspec": {
   "display_name": "Python 3",
   "language": "python",
   "name": "python3"
  },
  "language_info": {
   "codemirror_mode": {
    "name": "ipython",
    "version": 3
   },
   "file_extension": ".py",
   "mimetype": "text/x-python",
   "name": "python",
   "nbconvert_exporter": "python",
   "pygments_lexer": "ipython3",
   "version": "3.6.3"
  },
  "toc": {
   "base_numbering": 1,
   "nav_menu": {},
   "number_sections": true,
   "sideBar": true,
   "skip_h1_title": false,
   "title_cell": "Table of Contents",
   "title_sidebar": "Contents",
   "toc_cell": false,
   "toc_position": {},
   "toc_section_display": true,
   "toc_window_display": false
  }
 },
 "nbformat": 4,
 "nbformat_minor": 1
}
