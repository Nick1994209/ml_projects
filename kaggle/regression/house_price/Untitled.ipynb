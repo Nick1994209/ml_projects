{
 "cells": [
  {
   "cell_type": "code",
   "execution_count": 19,
   "metadata": {},
   "outputs": [],
   "source": [
    "import pandas as pd\n",
    "from sklearn.model_selection import train_test_split\n",
    "from sklearn.impute import SimpleImputer\n",
    "\n",
    "data = pd.read_csv('train.csv')\n",
    "data.dropna(axis=0, subset=['SalePrice'], inplace=True)\n",
    "y = data.SalePrice\n",
    "X = data.drop(['SalePrice'], axis=1).select_dtypes(exclude=['object'])\n",
    "train_X, test_X, train_y, test_y = train_test_split(X.values, y.values, test_size=0.25)\n",
    "\n",
    "my_imputer = SimpleImputer()\n",
    "train_X = my_imputer.fit_transform(train_X)\n",
    "test_X = my_imputer.transform(test_X)"
   ]
  },
  {
   "cell_type": "code",
   "execution_count": 35,
   "metadata": {},
   "outputs": [
    {
     "name": "stdout",
     "output_type": "stream",
     "text": [
      "Mean Absolute Error :  15866.077402350753\n",
      "Mean Absolute Error :  24710.65392935125\n"
     ]
    }
   ],
   "source": [
    "from xgboost import XGBRegressor\n",
    "import math\n",
    "\n",
    "my_model = XGBRegressor(n_estimators=1000, learning_rate=0.05, n_jobs=-1)\n",
    "my_model.fit(train_X, train_y, eval_set=[(test_X, test_y)], verbose=False, early_stopping_rounds=5)\n",
    "\n",
    "\n",
    "predictions = my_model.predict(test_X)\n",
    "from sklearn.metrics import mean_absolute_error, mean_squared_error\n",
    "print(\"Mean Absolute Error : \", math.sqrt(mean_squared_error(train_y, my_model.predict(train_X))))\n",
    "print(\"Mean Absolute Error : \", math.sqrt(mean_squared_error(predictions, test_y)))"
   ]
  },
  {
   "cell_type": "code",
   "execution_count": 36,
   "metadata": {},
   "outputs": [
    {
     "name": "stdout",
     "output_type": "stream",
     "text": [
      "Mean Absolute Error : 16426.503114297946\n",
      "Mean Absolute Error : 16426.503114297946\n"
     ]
    }
   ],
   "source": [
    "from xgboost import XGBRegressor\n",
    "\n",
    "my_model = XGBRegressor()\n",
    "my_model.fit(train_X, train_y, verbose=False)\n",
    "\n",
    "\n",
    "predictions = my_model.predict(test_X)\n",
    "from sklearn.metrics import mean_absolute_error\n",
    "print(\"Mean Absolute Error : \" + str(mean_absolute_error(predictions, tr)))\n",
    "print(\"Mean Absolute Error : \" + str(mean_absolute_error(predictions, test_y)))"
   ]
  },
  {
   "cell_type": "code",
   "execution_count": 44,
   "metadata": {},
   "outputs": [
    {
     "name": "stdout",
     "output_type": "stream",
     "text": [
      "RMSE train:  35420.06506710408\n",
      "RMSE test: 32379.312531872285\n"
     ]
    }
   ],
   "source": [
    "from sklearn.linear_model import Ridge\n",
    "\n",
    "[0.05, 0.1, 0.3, 1, 3, 5, 10, 15, 30, 50, 75]\n",
    "ridge = Ridge(alpha=0.3)\n",
    "ridge.fit(train_X, train_y)\n",
    "\n",
    "print(\"RMSE train: \", math.sqrt(mean_squared_error(train_y, ridge.predict(train_X))))\n",
    "print(\"RMSE test:\", math.sqrt(mean_squared_error(test_y, ridge.predict(test_X))))"
   ]
  }
 ],
 "metadata": {
  "kernelspec": {
   "display_name": "Python 3",
   "language": "python",
   "name": "python3"
  },
  "language_info": {
   "codemirror_mode": {
    "name": "ipython",
    "version": 3
   },
   "file_extension": ".py",
   "mimetype": "text/x-python",
   "name": "python",
   "nbconvert_exporter": "python",
   "pygments_lexer": "ipython3",
   "version": "3.6.8"
  }
 },
 "nbformat": 4,
 "nbformat_minor": 2
}
